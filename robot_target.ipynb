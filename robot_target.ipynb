{
 "cells": [
  {
   "cell_type": "markdown",
   "id": "3478d2c6",
   "metadata": {},
   "source": [
    "# RESEARCH TRACK 2\n",
    "## ASSIGNMENT 2 - ROS & JUPYTER NOTEBOOKS\n",
    "\n",
    "### About this notebook:\n",
    "- This notebook replaces the previous node (set_target.py) that required writing the target coordinates via the terminal using the specified 'rostopic'. We are also able to cancel the sent target.\n",
    "- We are able to generate a plot to visualize the robot's and target's positions.\n",
    "- A plot that shows both the number of reached and non-reached targets is also included.\n",
    "\n",
    "\n",
    "### Disclaimer:\n",
    "- Please refer to the README file at the workspace root for the launch of the ROS package.\n",
    "- Live plotting was able to work on personal Ubuntu but not on the Docker Image. On Docker, the last block needs to be re-run for plot changes."
   ]
  },
  {
   "cell_type": "markdown",
   "id": "b137a1c7",
   "metadata": {},
   "source": [
    "## Imports"
   ]
  },
  {
   "cell_type": "code",
   "execution_count": 1,
   "id": "8bd37699",
   "metadata": {},
   "outputs": [],
   "source": [
    "import rospy\n",
    "import time\n",
    "import statistics\n",
    "\n",
    "import ipywidgets as widgets\n",
    "import matplotlib.pyplot as plt\n",
    "from matplotlib.animation import FuncAnimation\n",
    "from IPython.display import display, clear_output\n",
    "import numpy as np\n",
    "\n",
    "from actionlib import SimpleActionClient\n",
    "from std_msgs.msg import Empty\n",
    "from nav_msgs.msg import Odometry\n",
    "from assignment_2_2023.msg import PlanningAction, PlanningGoal\n",
    "from rt1_pkg.msg import TargetPos, RobotPosVel\n"
   ]
  },
  {
   "cell_type": "markdown",
   "id": "8a2308a7",
   "metadata": {},
   "source": [
    "## Global variables"
   ]
  },
  {
   "cell_type": "code",
   "execution_count": 2,
   "id": "de082819",
   "metadata": {},
   "outputs": [],
   "source": [
    "# Counters\n",
    "reached_number = 0\n",
    "cancelled_number = 0\n",
    "\n",
    "# Booleans (for status)\n",
    "active = False\n",
    "just_cancelled = False"
   ]
  },
  {
   "cell_type": "markdown",
   "id": "b990ef15",
   "metadata": {},
   "source": [
    "## Widget configuration"
   ]
  },
  {
   "cell_type": "code",
   "execution_count": 3,
   "id": "e4dd556c",
   "metadata": {},
   "outputs": [],
   "source": [
    "# User input of X,Y coordinates\n",
    "x_value = widgets.FloatText(description = 'X:', layout = widgets.Layout(height = '50px', width = '200px'))\n",
    "y_value = widgets.FloatText(description = 'Y:', layout = widgets.Layout(height = '50px', width = '200px'))\n",
    "\n",
    "# Buttons\n",
    "send_button = widgets.Button(description = 'Send')\n",
    "cancel_button = widgets.Button(description = 'Cancel')\n",
    "\n",
    "# Text Data\n",
    "message = widgets.Text(description = 'Message', disabled = True, layout = widgets.Layout(height = '50px', width = '300px'))\n",
    "cancelled_targets = widgets.Text(description = '# of Cancelled:', disabled = True, layout = widgets.Layout(height = '50px', width = '200px')) \n",
    "reached_targets = widgets.Text(description = '# of Reached:', disabled = True, layout = widgets.Layout(height = '50px', width = '200px')) "
   ]
  },
  {
   "cell_type": "markdown",
   "id": "5a55408c",
   "metadata": {},
   "source": [
    "## Visualizer Class"
   ]
  },
  {
   "cell_type": "code",
   "execution_count": 4,
   "id": "bcf8ce01",
   "metadata": {},
   "outputs": [],
   "source": [
    "class Visualizer:\n",
    "    \n",
    "    def __init__(self):\n",
    "        self.fig, (self.ax1, self.ax2) = plt.subplots(1, 2)  # Create 2 plots horizontally\n",
    "        \n",
    "        # Line plot for trajectory\n",
    "        self.ln, = self.ax1.plot([], [], 'ro-', linewidth=0.8)\n",
    "        self.x_coord, self.y_coord = [], []\n",
    "\n",
    "        # Line plot for targets\n",
    "        self.target_ln, = self.ax1.plot([], [], 'bo', linewidth=1.0)\n",
    "        self.target_x_coord, self.target_y_coord = [], []\n",
    "\n",
    "        # Bar plot: reached vs cancelled targets\n",
    "        self.bar_labels = ['Reached', 'Cancelled']\n",
    "        self.bar_data = [reached_number, cancelled_number]\n",
    "        self.bar = self.ax2.bar(self.bar_labels, self.bar_data, color=['blue', 'red'])\n",
    "        \n",
    "        \n",
    "    def plot_init(self):\n",
    "        # Line plot: trajectory\n",
    "        self.ax1.set_title('Trajectory & Targets', fontsize=10)\n",
    "        self.ax1.set_xlabel('X')\n",
    "        self.ax1.set_ylabel('Y')\n",
    "        self.ax1.set_xlim(-5, 5)\n",
    "        self.ax1.set_ylim(-5, 5)\n",
    "        self.ax1.grid(True)\n",
    "        \n",
    "        # Bar plot: reached vs cancelled targets   \n",
    "        self.ax2.set_title('Reached vs Cancelled', fontsize=10)\n",
    "        self.ax2.set_ylabel('Number', fontsize=9)\n",
    "        self.ax2.grid(True)\n",
    "        self.ax2.tick_params(axis='both', which='major', labelsize=9)\n",
    "        self.ax2.set_ylim(0, 5.5)\n",
    "        \n",
    "        return self.ln, self.target_ln\n",
    "    \n",
    "    def update_plots(self, frame):\n",
    "        # Line plot: trajectory\n",
    "        self.ln.set_data(self.x_coord, self.y_coord)\n",
    "        self.target_ln.set_data(self.target_x_coord, self.target_y_coord)\n",
    "        \n",
    "        # Bar plot: reached vs cancelled targets  \n",
    "        max_count = max(reached_number, cancelled_number)\n",
    "        max_height = max(5, max_count)\n",
    "        self.ax2.set_ylim(0, max_height*1.1)\n",
    "        tick_interval = max(1, max_height // 5)\n",
    "        self.ax2.yaxis.set_major_locator(plt.MultipleLocator(tick_interval)) \n",
    "        self.bar[0].set_height(reached_number)\n",
    "        self.bar[1].set_height(cancelled_number)\n",
    "    \n",
    "        return self.bar, self.ln, self.target_ln\n",
    "    \n",
    "    def odom_callback(self, msg):\n",
    "        pos_x = msg.pose.pose.position.x\n",
    "        pos_y = msg.pose.pose.position.y\n",
    "        self.x_coord.append(pos_x)\n",
    "        self.y_coord.append(pos_y)\n",
    "        \n",
    "    def add_target(self, target_x, target_y):\n",
    "        self.target_x_coord.append(target_x)\n",
    "        self.target_y_coord.append(target_y)\n",
    "        self.update_plots(None)  # Update the plot to reflect new target\n",
    "        "
   ]
  },
  {
   "cell_type": "markdown",
   "id": "8945ff99",
   "metadata": {},
   "source": [
    "## ROS Functions"
   ]
  },
  {
   "cell_type": "code",
   "execution_count": 5,
   "id": "3a7a138f",
   "metadata": {},
   "outputs": [],
   "source": [
    "def send_target(data):\n",
    "    goal = PlanningGoal()\n",
    "    goal.target_pose.pose.position.x = x_value.value\n",
    "    goal.target_pose.pose.position.y = y_value.value\n",
    "    message.value = 'Goal sent'\n",
    "    ac.send_goal(goal, done_cb=done_callback, active_cb=active_callback, feedback_cb=feedback_callback)\n",
    "    vis.add_target(x_value.value, y_value.value)\n",
    "    \n",
    "\n",
    "def cancel_target(data):\n",
    "    global cancelled_number, active, just_cancelled\n",
    "    \n",
    "    if not active:\n",
    "        message.value = 'Nothing to cancel'\n",
    "        return\n",
    "\n",
    "    active = False\n",
    "    just_cancelled = True\n",
    "    \n",
    "    cancelled_number += 1\n",
    "    message.value = 'Goal cancelled'\n",
    "    cancelled_targets.value = f'{cancelled_number}'\n",
    "    ac.cancel_goal()\n",
    "\n",
    "\n",
    "def done_callback(state, result):\n",
    "    global reached_number, active, just_cancelled\n",
    "    \n",
    "    if not just_cancelled:\n",
    "        reached_number += 1\n",
    "        message.value = '¡Goal reached!'\n",
    "        reached_targets.value = f'{reached_number}'\n",
    "        \n",
    "    active = False\n",
    "    just_cancelled = False\n",
    "    \n",
    "    \n",
    "def feedback_callback(feedback):\n",
    "    pass\n",
    "    \n",
    "    \n",
    "def active_callback():\n",
    "    global active\n",
    "    active = True\n",
    "    \n"
   ]
  },
  {
   "cell_type": "markdown",
   "id": "56b62841",
   "metadata": {},
   "source": [
    "## ROS Initialization"
   ]
  },
  {
   "cell_type": "code",
   "execution_count": 6,
   "id": "e5055a3e",
   "metadata": {
    "scrolled": true
   },
   "outputs": [],
   "source": [
    "rospy.init_node('set_target')\n",
    "\n",
    "#: Initialize SimpleActionClient for the 'reaching_goal' action\n",
    "ac = SimpleActionClient('/reaching_goal', PlanningAction)\n",
    "\n",
    "#: Initialize publisher for 'RobotPosVel'\n",
    "pub = rospy.Publisher('/robot_pos_vel', RobotPosVel, queue_size=10)\n"
   ]
  },
  {
   "cell_type": "markdown",
   "id": "acc81be3",
   "metadata": {},
   "source": [
    "## Plots and widgets"
   ]
  },
  {
   "cell_type": "code",
   "execution_count": 8,
   "id": "d0db711d",
   "metadata": {
    "scrolled": true
   },
   "outputs": [
    {
     "name": "stderr",
     "output_type": "stream",
     "text": [
      "/usr/local/lib/python3.8/dist-packages/matplotlib/animation.py:884: UserWarning: Animation was deleted without rendering anything. This is most likely not intended. To prevent deletion, assign the Animation to a variable, e.g. `anim`, that exists until you output the Animation using `plt.show()` or `anim.save()`.\n",
      "  warnings.warn(\n"
     ]
    },
    {
     "data": {
      "image/png": "[encoded data removed]",
      "text/plain": [
       "<Figure size 432x288 with 2 Axes>"
      ]
     },
     "metadata": {
      "needs_background": "light"
     },
     "output_type": "display_data"
    },
    {
     "data": {
      "application/vnd.jupyter.widget-view+json": {
       "model_id": "9eda3cae16f24958af3dac72a596cbdc",
       "version_major": 2,
       "version_minor": 0
      },
      "text/plain": [
       "VBox(children=(HBox(children=(FloatText(value=2.0, description='X:', layout=Layout(height='50px', width='200px…"
      ]
     },
     "metadata": {},
     "output_type": "display_data"
    }
   ],
   "source": [
    "# Visualizer object\n",
    "vis = Visualizer()\n",
    "\n",
    "# Odometry\n",
    "rospy.Subscriber('/odom', Odometry, vis.odom_callback)\n",
    "\n",
    "# When button pressed...\n",
    "send_button.on_click(send_target)\n",
    "cancel_button.on_click(cancel_target)\n",
    "\n",
    "# Create the animation\n",
    "ani = FuncAnimation(vis.fig, vis.update_plots, init_func=vis.plot_init, save_count = 20)\n",
    "plt.show(block=True)\n",
    "\n",
    "# Display the widgets\n",
    "display(widgets.VBox([\n",
    "    widgets.HBox([x_value, y_value]),\n",
    "    widgets.HBox([send_button, cancel_button]), \n",
    "    widgets.HBox([message]),\n",
    "    widgets.HBox([cancelled_targets]),\n",
    "    widgets.HBox([reached_targets])\n",
    "]))\n",
    "\n",
    "\n"
   ]
  }
 ],
 "metadata": {
  "kernelspec": {
   "display_name": "Python 3 (ipykernel)",
   "language": "python",
   "name": "python3"
  },
  "language_info": {
   "codemirror_mode": {
    "name": "ipython",
    "version": 3
   },
   "file_extension": ".py",
   "mimetype": "text/x-python",
   "name": "python",
   "nbconvert_exporter": "python",
   "pygments_lexer": "ipython3",
   "version": "3.8.5"
  }
 },
 "nbformat": 4,
 "nbformat_minor": 5
}
